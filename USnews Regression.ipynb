{
 "cells": [
  {
   "cell_type": "code",
   "execution_count": 4,
   "metadata": {},
   "outputs": [],
   "source": [
    "import numpy as np\n",
    "import pandas as pd\n",
    "from statsmodels.formula.api import ols\n",
    "import matplotlib.pyplot as plt"
   ]
  },
  {
   "cell_type": "code",
   "execution_count": 5,
   "metadata": {},
   "outputs": [
    {
     "name": "stdout",
     "output_type": "stream",
     "text": [
      "Raw data\n"
     ]
    },
    {
     "data": {
      "text/html": [
       "<div>\n",
       "<style scoped>\n",
       "    .dataframe tbody tr th:only-of-type {\n",
       "        vertical-align: middle;\n",
       "    }\n",
       "\n",
       "    .dataframe tbody tr th {\n",
       "        vertical-align: top;\n",
       "    }\n",
       "\n",
       "    .dataframe thead th {\n",
       "        text-align: right;\n",
       "    }\n",
       "</style>\n",
       "<table border=\"1\" class=\"dataframe\">\n",
       "  <thead>\n",
       "    <tr style=\"text-align: right;\">\n",
       "      <th></th>\n",
       "      <th>Name</th>\n",
       "      <th>Ranking</th>\n",
       "      <th>usnews.com link</th>\n",
       "      <th>Tuition and Fees</th>\n",
       "      <th>Room and Board</th>\n",
       "      <th>Total Enrollment</th>\n",
       "      <th>School Type</th>\n",
       "      <th>Year Founded</th>\n",
       "      <th>Religiious Affiliation</th>\n",
       "      <th>Academic Calendar</th>\n",
       "      <th>...</th>\n",
       "      <th>Total undergraduate enrollment</th>\n",
       "      <th>Undergraduates who are first generation</th>\n",
       "      <th>Out-of-state students</th>\n",
       "      <th>International students</th>\n",
       "      <th>Registered clubs and organizations</th>\n",
       "      <th>Number of sports</th>\n",
       "      <th>Unnamed: 76</th>\n",
       "      <th>Peer_assessment</th>\n",
       "      <th>First_year_top_ten</th>\n",
       "      <th>Social Mobility rank</th>\n",
       "    </tr>\n",
       "  </thead>\n",
       "  <tbody>\n",
       "    <tr>\n",
       "      <th>0</th>\n",
       "      <td>Williams College</td>\n",
       "      <td>1</td>\n",
       "      <td>https://www.usnews.com/best-colleges/williams-...</td>\n",
       "      <td>$57,280</td>\n",
       "      <td>14990</td>\n",
       "      <td>2127.0</td>\n",
       "      <td>Private, Coed</td>\n",
       "      <td>1793.0</td>\n",
       "      <td>None</td>\n",
       "      <td>04-01-04</td>\n",
       "      <td>...</td>\n",
       "      <td>2073.0</td>\n",
       "      <td>22%</td>\n",
       "      <td>86%</td>\n",
       "      <td>7.80%</td>\n",
       "      <td>154.0</td>\n",
       "      <td>17.0</td>\n",
       "      <td>NaN</td>\n",
       "      <td>4.7</td>\n",
       "      <td>89%</td>\n",
       "      <td>90.0</td>\n",
       "    </tr>\n",
       "    <tr>\n",
       "      <th>1</th>\n",
       "      <td>Amherst College</td>\n",
       "      <td>2</td>\n",
       "      <td>https://www.usnews.com/best-colleges/amherst-c...</td>\n",
       "      <td>$58,640</td>\n",
       "      <td>15310</td>\n",
       "      <td>1855.0</td>\n",
       "      <td>Private, Coed</td>\n",
       "      <td>1821.0</td>\n",
       "      <td>None</td>\n",
       "      <td>Semester</td>\n",
       "      <td>...</td>\n",
       "      <td>1855.0</td>\n",
       "      <td>21%</td>\n",
       "      <td>87%</td>\n",
       "      <td>8.10%</td>\n",
       "      <td>177.0</td>\n",
       "      <td>12.0</td>\n",
       "      <td>NaN</td>\n",
       "      <td>4.6</td>\n",
       "      <td>88%</td>\n",
       "      <td>99.0</td>\n",
       "    </tr>\n",
       "    <tr>\n",
       "      <th>2</th>\n",
       "      <td>Swarthmore College</td>\n",
       "      <td>3</td>\n",
       "      <td>https://www.usnews.com/best-colleges/swarthmor...</td>\n",
       "      <td>$54,656</td>\n",
       "      <td>16088</td>\n",
       "      <td>1559.0</td>\n",
       "      <td>Private, Coed</td>\n",
       "      <td>1864.0</td>\n",
       "      <td>None</td>\n",
       "      <td>Semester</td>\n",
       "      <td>...</td>\n",
       "      <td>1559.0</td>\n",
       "      <td>27%</td>\n",
       "      <td>87%</td>\n",
       "      <td>13.20%</td>\n",
       "      <td>154.0</td>\n",
       "      <td>8.0</td>\n",
       "      <td>NaN</td>\n",
       "      <td>4.6</td>\n",
       "      <td>90%</td>\n",
       "      <td>148.0</td>\n",
       "    </tr>\n",
       "    <tr>\n",
       "      <th>3</th>\n",
       "      <td>Wellesley College</td>\n",
       "      <td>3</td>\n",
       "      <td>https://www.usnews.com/best-colleges/wellesley...</td>\n",
       "      <td>$56,052</td>\n",
       "      <td>17096</td>\n",
       "      <td>2534.0</td>\n",
       "      <td>Private, Women's college</td>\n",
       "      <td>1870.0</td>\n",
       "      <td>None</td>\n",
       "      <td>Semester</td>\n",
       "      <td>...</td>\n",
       "      <td>2534.0</td>\n",
       "      <td>17%</td>\n",
       "      <td>86%</td>\n",
       "      <td>13.60%</td>\n",
       "      <td>153.0</td>\n",
       "      <td>8.0</td>\n",
       "      <td>NaN</td>\n",
       "      <td>4.5</td>\n",
       "      <td>83%</td>\n",
       "      <td>113.0</td>\n",
       "    </tr>\n",
       "    <tr>\n",
       "      <th>4</th>\n",
       "      <td>Pomona College</td>\n",
       "      <td>5</td>\n",
       "      <td>https://www.usnews.com/best-colleges/pomona-co...</td>\n",
       "      <td>$54,762</td>\n",
       "      <td>17218</td>\n",
       "      <td>1679.0</td>\n",
       "      <td>Private, Coed</td>\n",
       "      <td>1887.0</td>\n",
       "      <td>None</td>\n",
       "      <td>Semester</td>\n",
       "      <td>...</td>\n",
       "      <td>1679.0</td>\n",
       "      <td>30%</td>\n",
       "      <td>74%</td>\n",
       "      <td>11.40%</td>\n",
       "      <td>227.0</td>\n",
       "      <td>9.0</td>\n",
       "      <td>NaN</td>\n",
       "      <td>4.5</td>\n",
       "      <td>91%</td>\n",
       "      <td>113.0</td>\n",
       "    </tr>\n",
       "  </tbody>\n",
       "</table>\n",
       "<p>5 rows × 80 columns</p>\n",
       "</div>"
      ],
      "text/plain": [
       "                 Name  Ranking  \\\n",
       "0    Williams College        1   \n",
       "1     Amherst College        2   \n",
       "2  Swarthmore College        3   \n",
       "3   Wellesley College        3   \n",
       "4      Pomona College        5   \n",
       "\n",
       "                                     usnews.com link Tuition and Fees  \\\n",
       "0  https://www.usnews.com/best-colleges/williams-...          $57,280   \n",
       "1  https://www.usnews.com/best-colleges/amherst-c...          $58,640   \n",
       "2  https://www.usnews.com/best-colleges/swarthmor...          $54,656   \n",
       "3  https://www.usnews.com/best-colleges/wellesley...          $56,052   \n",
       "4  https://www.usnews.com/best-colleges/pomona-co...          $54,762   \n",
       "\n",
       "  Room and Board  Total Enrollment               School Type  Year Founded  \\\n",
       "0          14990            2127.0             Private, Coed        1793.0   \n",
       "1          15310            1855.0             Private, Coed        1821.0   \n",
       "2          16088            1559.0             Private, Coed        1864.0   \n",
       "3          17096            2534.0  Private, Women's college        1870.0   \n",
       "4          17218            1679.0             Private, Coed        1887.0   \n",
       "\n",
       "  Religiious Affiliation Academic Calendar  ...  \\\n",
       "0                   None          04-01-04  ...   \n",
       "1                   None          Semester  ...   \n",
       "2                   None          Semester  ...   \n",
       "3                   None          Semester  ...   \n",
       "4                   None          Semester  ...   \n",
       "\n",
       "  Total undergraduate enrollment Undergraduates who are first generation  \\\n",
       "0                         2073.0                                     22%   \n",
       "1                         1855.0                                     21%   \n",
       "2                         1559.0                                     27%   \n",
       "3                         2534.0                                     17%   \n",
       "4                         1679.0                                     30%   \n",
       "\n",
       "  Out-of-state students International students  \\\n",
       "0                   86%                  7.80%   \n",
       "1                   87%                  8.10%   \n",
       "2                   87%                 13.20%   \n",
       "3                   86%                 13.60%   \n",
       "4                   74%                 11.40%   \n",
       "\n",
       "  Registered clubs and organizations Number of sports Unnamed: 76  \\\n",
       "0                              154.0             17.0         NaN   \n",
       "1                              177.0             12.0         NaN   \n",
       "2                              154.0              8.0         NaN   \n",
       "3                              153.0              8.0         NaN   \n",
       "4                              227.0              9.0         NaN   \n",
       "\n",
       "  Peer_assessment First_year_top_ten Social Mobility rank  \n",
       "0             4.7                89%                 90.0  \n",
       "1             4.6                88%                 99.0  \n",
       "2             4.6                90%                148.0  \n",
       "3             4.5                83%                113.0  \n",
       "4             4.5                91%                113.0  \n",
       "\n",
       "[5 rows x 80 columns]"
      ]
     },
     "execution_count": 5,
     "metadata": {},
     "output_type": "execute_result"
    }
   ],
   "source": [
    "dataset = pd.read_csv(\"usnews_dataset.csv\")\n",
    "print(\"Raw data\")\n",
    "# Display first 5 rows\n",
    "dataset.head(5)"
   ]
  },
  {
   "cell_type": "markdown",
   "metadata": {},
   "source": [
    "**Filter the columns of interest + drop rows that contains null values (it drops from 216 down to 168)**\n",
    "- Name\n",
    "- Ranking \n",
    "- Peer_assessment \n",
    "- Total Enrollment \n",
    "- 2018 Endowment\n",
    "- Student_faculty_ratio\n",
    "- Registered clubs and organizations\n",
    "- Number of sports\n",
    "- First_year_top_ten\n"
   ]
  },
  {
   "cell_type": "code",
   "execution_count": 7,
   "metadata": {},
   "outputs": [],
   "source": [
    "def filter_dataset(dataset):\n",
    "    usnews = dataset[['Name', \\\n",
    "                      'Ranking', \\\n",
    "                      'Peer_assessment', \\\n",
    "                      'Total Enrollment', \\\n",
    "                      '2018 Endowment', \\\n",
    "                      'Student_faculty_ratio', \\\n",
    "                      'Registered clubs and organizations', \\\n",
    "                      'Number of sports','First_year_top_ten']]\n",
    "    # Drop rows which contains N/A values\n",
    "    return usnews.dropna()"
   ]
  },
  {
   "cell_type": "markdown",
   "metadata": {},
   "source": [
    "**Data cleaning and engineering**"
   ]
  },
  {
   "cell_type": "code",
   "execution_count": 8,
   "metadata": {},
   "outputs": [
    {
     "ename": "SyntaxError",
     "evalue": "invalid syntax (<ipython-input-8-86fc6c0b4257>, line 12)",
     "output_type": "error",
     "traceback": [
      "\u001b[0;36m  File \u001b[0;32m\"<ipython-input-8-86fc6c0b4257>\"\u001b[0;36m, line \u001b[0;32m12\u001b[0m\n\u001b[0;31m    def clean_data(usnews)\u001b[0m\n\u001b[0m                          ^\u001b[0m\n\u001b[0;31mSyntaxError\u001b[0m\u001b[0;31m:\u001b[0m invalid syntax\n"
     ]
    }
   ],
   "source": [
    "# Format 3 rows: endowment, student-faculty ratio and students from top 10 in high school\n",
    "def endowment_format(s):\n",
    "    s = s.replace(',','').split('.')[0]\n",
    "    return float(s[1:])\n",
    "def ratio_format(s):\n",
    "    return int(s.split(\":\")[0])\n",
    "def top10_format(s):\n",
    "    return int(s[:-1])/100\n",
    "def retention_format(s):\n",
    "    return int(s[:-1])/100\n",
    "\n",
    "def clean_data(usnews)\n",
    "    usnews[\"2018 Endowment\"] = usnews[\"2018 Endowment\"].apply(endowment_format)\n",
    "    usnews[\"Student_faculty_ratio\"] = usnews[\"Student_faculty_ratio\"].apply(ratio_format)\n",
    "    usnews[\"First_year_top_ten\"] = usnews[\"First_year_top_ten\"].apply(top10_format)\n",
    "\n",
    "    # Change their type from object (string) to float\n",
    "#     usnews[[\"2018 Endowment\", \"Student_faculty_ratio\", \"First_year_top_ten\"]] = usnews[[\"2018 Endowment\", \"Student_faculty_ratio\", \"First_year_top_ten\"]].astype('float64')\n",
    "    return usnews"
   ]
  },
  {
   "cell_type": "code",
   "execution_count": null,
   "metadata": {},
   "outputs": [],
   "source": [
    "# Create new data: log_endowment_per_capita, clubs_per_capita, sports_per_capita\n",
    "def new_variables(usnews):\n",
    "    usnews[\"log_endowment_per_capita\"] = np.log(usnews[\"2018 Endowment\"]/usnews['Total Enrollment'])\n",
    "    usnews[\"clubs_per_capita\"] = (usnews[\"Registered clubs and organizations\"]/usnews['Total Enrollment'])\n",
    "    usnews[\"sports_per_capita\"] = (usnews[\"Number of sports\"]/usnews['Total Enrollment'])\n",
    "#     usnews[\"First_year_top_ten\"] = (usnews[\"First_year_top_ten\"]/100)\n",
    "    return usnews"
   ]
  },
  {
   "cell_type": "code",
   "execution_count": null,
   "metadata": {},
   "outputs": [],
   "source": [
    "# Data after cleaning, display 5 random rows\n",
    "usnews.sample(5)"
   ]
  },
  {
   "cell_type": "markdown",
   "metadata": {},
   "source": [
    "**Descriptive statistics**"
   ]
  },
  {
   "cell_type": "code",
   "execution_count": null,
   "metadata": {},
   "outputs": [],
   "source": [
    "usnews.describe()"
   ]
  },
  {
   "cell_type": "code",
   "execution_count": null,
   "metadata": {},
   "outputs": [],
   "source": [
    "usnews.info()"
   ]
  },
  {
   "cell_type": "markdown",
   "metadata": {},
   "source": [
    "**Regression**"
   ]
  },
  {
   "cell_type": "code",
   "execution_count": null,
   "metadata": {},
   "outputs": [],
   "source": [
    "def regressions():\n",
    "    ranking = ols(formula = 'Ranking ~ log_endowment_per_capita + Student_faculty_ratio + First_year_top_ten + clubs_per_capita + sports_per_capita', data = usnews).fit()\n",
    "    peer = ols(formula = 'Peer_assessment ~ log_endowment_per_capita + Student_faculty_ratio + First_year_top_ten + clubs_per_capita + sports_per_capita', data = usnews).fit()\n",
    "    return ranking, peer"
   ]
  },
  {
   "cell_type": "code",
   "execution_count": null,
   "metadata": {},
   "outputs": [],
   "source": []
  },
  {
   "cell_type": "markdown",
   "metadata": {},
   "source": [
    "**Compare the model with actual values**"
   ]
  },
  {
   "cell_type": "code",
   "execution_count": 9,
   "metadata": {},
   "outputs": [],
   "source": [
    "def compare():\n",
    "    predict_ranking = []\n",
    "    predict_peer_score = []\n",
    "    variables = ['log_endowment_per_capita', \\\n",
    "                 'Student_faculty_ratio', \\\n",
    "                 'First_year_top_ten', \\\n",
    "                 'clubs_per_capita', \\\n",
    "                 'sports_per_capita']\n",
    "    for i in range(len(usnews)):\n",
    "        predict_ranking.append(round(\n",
    "                               ranking.params['Intercept']+ \\\n",
    "                               ranking.params['log_endowment_per_capita']*usnews['log_endowment_per_capita'].values[i] + \\\n",
    "                               ranking.params['Student_faculty_ratio']*usnews['Student_faculty_ratio'].values[i] + \\\n",
    "                               ranking.params['First_year_top_ten']*usnews['First_year_top_ten'].values[i] + \\\n",
    "                               ranking.params['clubs_per_capita']*usnews['clubs_per_capita'].values[i] + \\\n",
    "                               ranking.params['sports_per_capita']*usnews['sports_per_capita'].values[i]))\n",
    "        predict_peer_score.append(round(\n",
    "                                  peer.params['Intercept']+ \\\n",
    "                                  peer.params['log_endowment_per_capita']*usnews['log_endowment_per_capita'].values[i] + \\\n",
    "                                  peer.params['Student_faculty_ratio']*usnews['Student_faculty_ratio'].values[i] + \\\n",
    "                                  peer.params['First_year_top_ten']*usnews['First_year_top_ten'].values[i] + \\\n",
    "                                  peer.params['clubs_per_capita']*usnews['clubs_per_capita'].values[i] + \\\n",
    "                                  peer.params['sports_per_capita']*usnews['sports_per_capita'].values[i],2))\n",
    "    return predict_ranking, predict_peer_score"
   ]
  },
  {
   "cell_type": "markdown",
   "metadata": {},
   "source": [
    "**Save the comparasion between actual data and predicted data to .csv file**"
   ]
  },
  {
   "cell_type": "code",
   "execution_count": 10,
   "metadata": {},
   "outputs": [],
   "source": [
    "def save():\n",
    "    (pd.DataFrame({\"Name\": usnews[\"Name\"], \\\n",
    "                   \"Ranking\":usnews['Ranking'], \\\n",
    "                   \"Model predicted ranking\":predict_ranking, \\\n",
    "                   \"Peer Assessment\":usnews[\"Peer_assessment\"], \\\n",
    "                   \"Model predicted peer assessment\":predict_peer_score})).to_csv(\"model_predicted.csv\")"
   ]
  },
  {
   "cell_type": "code",
   "execution_count": 11,
   "metadata": {},
   "outputs": [
    {
     "ename": "NameError",
     "evalue": "name 'usnews' is not defined",
     "output_type": "error",
     "traceback": [
      "\u001b[0;31m---------------------------------------------------------------------------\u001b[0m",
      "\u001b[0;31mNameError\u001b[0m                                 Traceback (most recent call last)",
      "\u001b[0;32m<ipython-input-11-19bda249c75c>\u001b[0m in \u001b[0;36m<module>\u001b[0;34m\u001b[0m\n\u001b[0;32m----> 1\u001b[0;31m \u001b[0musnews\u001b[0m \u001b[0;34m=\u001b[0m \u001b[0mfilter_dataset\u001b[0m\u001b[0;34m(\u001b[0m\u001b[0musnews\u001b[0m\u001b[0;34m)\u001b[0m\u001b[0;34m\u001b[0m\u001b[0;34m\u001b[0m\u001b[0m\n\u001b[0m\u001b[1;32m      2\u001b[0m \u001b[0musnews\u001b[0m \u001b[0;34m=\u001b[0m \u001b[0mclean_data\u001b[0m\u001b[0;34m(\u001b[0m\u001b[0musnews\u001b[0m\u001b[0;34m)\u001b[0m\u001b[0;34m\u001b[0m\u001b[0;34m\u001b[0m\u001b[0m\n\u001b[1;32m      3\u001b[0m \u001b[0musnews\u001b[0m \u001b[0;34m=\u001b[0m \u001b[0mnew_variable\u001b[0m\u001b[0;34m(\u001b[0m\u001b[0musnews\u001b[0m\u001b[0;34m)\u001b[0m\u001b[0;34m\u001b[0m\u001b[0;34m\u001b[0m\u001b[0m\n\u001b[1;32m      4\u001b[0m \u001b[0mranking\u001b[0m\u001b[0;34m,\u001b[0m \u001b[0mpeer\u001b[0m \u001b[0;34m=\u001b[0m \u001b[0mregressions\u001b[0m\u001b[0;34m(\u001b[0m\u001b[0;34m)\u001b[0m\u001b[0;34m\u001b[0m\u001b[0;34m\u001b[0m\u001b[0m\n\u001b[1;32m      5\u001b[0m \u001b[0mranking\u001b[0m\u001b[0;34m.\u001b[0m\u001b[0msummary\u001b[0m\u001b[0;34m(\u001b[0m\u001b[0;34m)\u001b[0m\u001b[0;34m\u001b[0m\u001b[0;34m\u001b[0m\u001b[0m\n",
      "\u001b[0;31mNameError\u001b[0m: name 'usnews' is not defined"
     ]
    }
   ],
   "source": [
    "usnews = filter_dataset(datase)\n",
    "usnews = clean_data(usnews)\n",
    "usnews = new_variable(usnews)\n",
    "ranking, peer = regressions()\n",
    "ranking.summary()\n"
   ]
  }
 ],
 "metadata": {
  "kernelspec": {
   "display_name": "Python 3",
   "language": "python",
   "name": "python3"
  },
  "language_info": {
   "codemirror_mode": {
    "name": "ipython",
    "version": 3
   },
   "file_extension": ".py",
   "mimetype": "text/x-python",
   "name": "python",
   "nbconvert_exporter": "python",
   "pygments_lexer": "ipython3",
   "version": "3.7.7"
  }
 },
 "nbformat": 4,
 "nbformat_minor": 4
}
