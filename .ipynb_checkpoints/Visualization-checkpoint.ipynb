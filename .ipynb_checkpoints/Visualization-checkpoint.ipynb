{
 "cells": [
  {
   "cell_type": "code",
   "execution_count": 74,
   "metadata": {},
   "outputs": [],
   "source": [
    "import numpy as np\n",
    "import pandas as pd\n",
    "import matplotlib.pyplot as plt"
   ]
  },
  {
   "cell_type": "code",
   "execution_count": 75,
   "metadata": {},
   "outputs": [
    {
     "name": "stdout",
     "output_type": "stream",
     "text": [
      "Raw data\n"
     ]
    },
    {
     "data": {
      "text/html": [
       "<div>\n",
       "<style scoped>\n",
       "    .dataframe tbody tr th:only-of-type {\n",
       "        vertical-align: middle;\n",
       "    }\n",
       "\n",
       "    .dataframe tbody tr th {\n",
       "        vertical-align: top;\n",
       "    }\n",
       "\n",
       "    .dataframe thead th {\n",
       "        text-align: right;\n",
       "    }\n",
       "</style>\n",
       "<table border=\"1\" class=\"dataframe\">\n",
       "  <thead>\n",
       "    <tr style=\"text-align: right;\">\n",
       "      <th></th>\n",
       "      <th>Name</th>\n",
       "      <th>Ranking</th>\n",
       "      <th>usnews.com link</th>\n",
       "      <th>Tuition and Fees</th>\n",
       "      <th>Room and Board</th>\n",
       "      <th>Total Enrollment</th>\n",
       "      <th>School Type</th>\n",
       "      <th>Year Founded</th>\n",
       "      <th>Religiious Affiliation</th>\n",
       "      <th>Academic Calendar</th>\n",
       "      <th>...</th>\n",
       "      <th>Total undergraduate enrollment</th>\n",
       "      <th>Undergraduates who are first generation</th>\n",
       "      <th>Out-of-state students</th>\n",
       "      <th>International students</th>\n",
       "      <th>Registered clubs and organizations</th>\n",
       "      <th>Number of sports</th>\n",
       "      <th>Unnamed: 76</th>\n",
       "      <th>Peer_assessment</th>\n",
       "      <th>First_year_top_ten</th>\n",
       "      <th>Social Mobility rank</th>\n",
       "    </tr>\n",
       "  </thead>\n",
       "  <tbody>\n",
       "    <tr>\n",
       "      <th>0</th>\n",
       "      <td>Williams College</td>\n",
       "      <td>1</td>\n",
       "      <td>https://www.usnews.com/best-colleges/williams-...</td>\n",
       "      <td>$57,280</td>\n",
       "      <td>14990</td>\n",
       "      <td>2127.0</td>\n",
       "      <td>Private, Coed</td>\n",
       "      <td>1793.0</td>\n",
       "      <td>None</td>\n",
       "      <td>04-01-04</td>\n",
       "      <td>...</td>\n",
       "      <td>2073.0</td>\n",
       "      <td>22%</td>\n",
       "      <td>86%</td>\n",
       "      <td>7.80%</td>\n",
       "      <td>154.0</td>\n",
       "      <td>17.0</td>\n",
       "      <td>NaN</td>\n",
       "      <td>4.7</td>\n",
       "      <td>89%</td>\n",
       "      <td>90.0</td>\n",
       "    </tr>\n",
       "    <tr>\n",
       "      <th>1</th>\n",
       "      <td>Amherst College</td>\n",
       "      <td>2</td>\n",
       "      <td>https://www.usnews.com/best-colleges/amherst-c...</td>\n",
       "      <td>$58,640</td>\n",
       "      <td>15310</td>\n",
       "      <td>1855.0</td>\n",
       "      <td>Private, Coed</td>\n",
       "      <td>1821.0</td>\n",
       "      <td>None</td>\n",
       "      <td>Semester</td>\n",
       "      <td>...</td>\n",
       "      <td>1855.0</td>\n",
       "      <td>21%</td>\n",
       "      <td>87%</td>\n",
       "      <td>8.10%</td>\n",
       "      <td>177.0</td>\n",
       "      <td>12.0</td>\n",
       "      <td>NaN</td>\n",
       "      <td>4.6</td>\n",
       "      <td>88%</td>\n",
       "      <td>99.0</td>\n",
       "    </tr>\n",
       "    <tr>\n",
       "      <th>2</th>\n",
       "      <td>Swarthmore College</td>\n",
       "      <td>3</td>\n",
       "      <td>https://www.usnews.com/best-colleges/swarthmor...</td>\n",
       "      <td>$54,656</td>\n",
       "      <td>16088</td>\n",
       "      <td>1559.0</td>\n",
       "      <td>Private, Coed</td>\n",
       "      <td>1864.0</td>\n",
       "      <td>None</td>\n",
       "      <td>Semester</td>\n",
       "      <td>...</td>\n",
       "      <td>1559.0</td>\n",
       "      <td>27%</td>\n",
       "      <td>87%</td>\n",
       "      <td>13.20%</td>\n",
       "      <td>154.0</td>\n",
       "      <td>8.0</td>\n",
       "      <td>NaN</td>\n",
       "      <td>4.6</td>\n",
       "      <td>90%</td>\n",
       "      <td>148.0</td>\n",
       "    </tr>\n",
       "    <tr>\n",
       "      <th>3</th>\n",
       "      <td>Wellesley College</td>\n",
       "      <td>3</td>\n",
       "      <td>https://www.usnews.com/best-colleges/wellesley...</td>\n",
       "      <td>$56,052</td>\n",
       "      <td>17096</td>\n",
       "      <td>2534.0</td>\n",
       "      <td>Private, Women's college</td>\n",
       "      <td>1870.0</td>\n",
       "      <td>None</td>\n",
       "      <td>Semester</td>\n",
       "      <td>...</td>\n",
       "      <td>2534.0</td>\n",
       "      <td>17%</td>\n",
       "      <td>86%</td>\n",
       "      <td>13.60%</td>\n",
       "      <td>153.0</td>\n",
       "      <td>8.0</td>\n",
       "      <td>NaN</td>\n",
       "      <td>4.5</td>\n",
       "      <td>83%</td>\n",
       "      <td>113.0</td>\n",
       "    </tr>\n",
       "    <tr>\n",
       "      <th>4</th>\n",
       "      <td>Pomona College</td>\n",
       "      <td>5</td>\n",
       "      <td>https://www.usnews.com/best-colleges/pomona-co...</td>\n",
       "      <td>$54,762</td>\n",
       "      <td>17218</td>\n",
       "      <td>1679.0</td>\n",
       "      <td>Private, Coed</td>\n",
       "      <td>1887.0</td>\n",
       "      <td>None</td>\n",
       "      <td>Semester</td>\n",
       "      <td>...</td>\n",
       "      <td>1679.0</td>\n",
       "      <td>30%</td>\n",
       "      <td>74%</td>\n",
       "      <td>11.40%</td>\n",
       "      <td>227.0</td>\n",
       "      <td>9.0</td>\n",
       "      <td>NaN</td>\n",
       "      <td>4.5</td>\n",
       "      <td>91%</td>\n",
       "      <td>113.0</td>\n",
       "    </tr>\n",
       "  </tbody>\n",
       "</table>\n",
       "<p>5 rows × 80 columns</p>\n",
       "</div>"
      ],
      "text/plain": [
       "                 Name  Ranking  \\\n",
       "0    Williams College        1   \n",
       "1     Amherst College        2   \n",
       "2  Swarthmore College        3   \n",
       "3   Wellesley College        3   \n",
       "4      Pomona College        5   \n",
       "\n",
       "                                     usnews.com link Tuition and Fees  \\\n",
       "0  https://www.usnews.com/best-colleges/williams-...          $57,280   \n",
       "1  https://www.usnews.com/best-colleges/amherst-c...          $58,640   \n",
       "2  https://www.usnews.com/best-colleges/swarthmor...          $54,656   \n",
       "3  https://www.usnews.com/best-colleges/wellesley...          $56,052   \n",
       "4  https://www.usnews.com/best-colleges/pomona-co...          $54,762   \n",
       "\n",
       "  Room and Board  Total Enrollment               School Type  Year Founded  \\\n",
       "0          14990            2127.0             Private, Coed        1793.0   \n",
       "1          15310            1855.0             Private, Coed        1821.0   \n",
       "2          16088            1559.0             Private, Coed        1864.0   \n",
       "3          17096            2534.0  Private, Women's college        1870.0   \n",
       "4          17218            1679.0             Private, Coed        1887.0   \n",
       "\n",
       "  Religiious Affiliation Academic Calendar  ...  \\\n",
       "0                   None          04-01-04  ...   \n",
       "1                   None          Semester  ...   \n",
       "2                   None          Semester  ...   \n",
       "3                   None          Semester  ...   \n",
       "4                   None          Semester  ...   \n",
       "\n",
       "  Total undergraduate enrollment Undergraduates who are first generation  \\\n",
       "0                         2073.0                                     22%   \n",
       "1                         1855.0                                     21%   \n",
       "2                         1559.0                                     27%   \n",
       "3                         2534.0                                     17%   \n",
       "4                         1679.0                                     30%   \n",
       "\n",
       "  Out-of-state students International students  \\\n",
       "0                   86%                  7.80%   \n",
       "1                   87%                  8.10%   \n",
       "2                   87%                 13.20%   \n",
       "3                   86%                 13.60%   \n",
       "4                   74%                 11.40%   \n",
       "\n",
       "  Registered clubs and organizations Number of sports Unnamed: 76  \\\n",
       "0                              154.0             17.0         NaN   \n",
       "1                              177.0             12.0         NaN   \n",
       "2                              154.0              8.0         NaN   \n",
       "3                              153.0              8.0         NaN   \n",
       "4                              227.0              9.0         NaN   \n",
       "\n",
       "  Peer_assessment First_year_top_ten Social Mobility rank  \n",
       "0             4.7                89%                 90.0  \n",
       "1             4.6                88%                 99.0  \n",
       "2             4.6                90%                148.0  \n",
       "3             4.5                83%                113.0  \n",
       "4             4.5                91%                113.0  \n",
       "\n",
       "[5 rows x 80 columns]"
      ]
     },
     "execution_count": 75,
     "metadata": {},
     "output_type": "execute_result"
    }
   ],
   "source": [
    "dataset = pd.read_csv(\"usnews_dataset.csv\")\n",
    "print(\"Raw data\")\n",
    "# Display first 5 rows\n",
    "dataset.head(5)"
   ]
  },
  {
   "cell_type": "code",
   "execution_count": 76,
   "metadata": {},
   "outputs": [],
   "source": [
    "category = ['Name', \\\n",
    "                      \n",
    "            'National Liberal Arts Colleges', \\\n",
    "            'Best Undergraduate Teaching', \\\n",
    "            'Best Value Schools', \\\n",
    "            'Most Innovative Schools', \\\n",
    "            'Top Performers on Social Mobility', \\\n",
    "            'First-Year Experiences', \\\n",
    "            'Learning Communities', \\\n",
    "            'Senior Capstone', \\\n",
    "            'Writing in the Disciplines', \\\n",
    "            'Study Abroad', \\\n",
    "            'Undergraduate Research/Creative Projects', \\\n",
    "\n",
    "            'Freshmen_retention', \\\n",
    "          ]"
   ]
  },
  {
   "cell_type": "code",
   "execution_count": 77,
   "metadata": {},
   "outputs": [],
   "source": [
    "def filter_dataset(dataset, category):\n",
    "    usnews = dataset[category]\n",
    "    # Drop rows which contains N/A values\n",
    "    return usnews\n",
    "\n",
    "def format_retention(s):\n",
    "    return int(s[:-1])/100\n",
    "\n",
    "def clean_data(usnews):\n",
    "    usnews['Freshmen_retention'] = usnews['Freshmen_retention'].apply(format_retention)\n",
    "    return usnews"
   ]
  },
  {
   "cell_type": "code",
   "execution_count": 78,
   "metadata": {},
   "outputs": [
    {
     "name": "stdout",
     "output_type": "stream",
     "text": [
      "<class 'pandas.core.frame.DataFrame'>\n",
      "RangeIndex: 215 entries, 0 to 214\n",
      "Data columns (total 13 columns):\n",
      " #   Column                                    Non-Null Count  Dtype  \n",
      "---  ------                                    --------------  -----  \n",
      " 0   Name                                      215 non-null    object \n",
      " 1   National Liberal Arts Colleges            215 non-null    int64  \n",
      " 2   Best Undergraduate Teaching               69 non-null     float64\n",
      " 3   Best Value Schools                        101 non-null    float64\n",
      " 4   Most Innovative Schools                   53 non-null     float64\n",
      " 5   Top Performers on Social Mobility         215 non-null    int64  \n",
      " 6   First-Year Experiences                    35 non-null     float64\n",
      " 7   Learning Communities                      4 non-null      float64\n",
      " 8   Senior Capstone                           10 non-null     float64\n",
      " 9   Writing in the Disciplines                10 non-null     float64\n",
      " 10  Study Abroad                              13 non-null     float64\n",
      " 11  Undergraduate Research/Creative Projects  19 non-null     float64\n",
      " 12  Freshmen_retention                        215 non-null    float64\n",
      "dtypes: float64(10), int64(2), object(1)\n",
      "memory usage: 22.0+ KB\n"
     ]
    },
    {
     "name": "stderr",
     "output_type": "stream",
     "text": [
      "/home/phuc/miniconda3/envs/tensorflow/lib/python3.7/site-packages/ipykernel_launcher.py:10: SettingWithCopyWarning: \n",
      "A value is trying to be set on a copy of a slice from a DataFrame.\n",
      "Try using .loc[row_indexer,col_indexer] = value instead\n",
      "\n",
      "See the caveats in the documentation: https://pandas.pydata.org/pandas-docs/stable/user_guide/indexing.html#returning-a-view-versus-a-copy\n",
      "  # Remove the CWD from sys.path while we load stuff.\n"
     ]
    }
   ],
   "source": [
    "usnews = filter_dataset(dataset, category)\n",
    "usnews = clean_data(usnews)\n",
    "usnews.info()"
   ]
  },
  {
   "cell_type": "markdown",
   "metadata": {},
   "source": [
    "There are 5 rankings that have more than 50 entries\n",
    "- National Liberal Arts Colleges\n",
    "- Best Undergraduate Teaching\n",
    "- Best Value Schools\n",
    "- Most Innovative Schools\n",
    "- Top Performers on Social Mobility"
   ]
  },
  {
   "cell_type": "code",
   "execution_count": 79,
   "metadata": {},
   "outputs": [],
   "source": [
    "category = ['Name', \\\n",
    "                      \n",
    "            'National Liberal Arts Colleges', \\\n",
    "            'Best Undergraduate Teaching', \\\n",
    "            'Best Value Schools', \\\n",
    "            'Most Innovative Schools', \\\n",
    "            'Top Performers on Social Mobility', \\\n",
    "\n",
    "            'Freshmen_retention', \\\n",
    "          ]"
   ]
  },
  {
   "cell_type": "code",
   "execution_count": 80,
   "metadata": {},
   "outputs": [],
   "source": [
    "labels = ['1->10', '11->20', '21->30', '31->40', '41->50', '51->60', '61->70', '71->80', '81->90', '91->100', '>100']\n",
    "ranking = []\n",
    "best_teaching = []\n",
    "best_values = []\n",
    "most_innovative = []\n",
    "social_mobility = []\n",
    "\n",
    "dictionary = {category[1] : ranking,\n",
    "              category[2] : best_teaching,\n",
    "              category[3] : best_values,\n",
    "              category[4] : most_innovative,\n",
    "              category[5] : social_mobility}"
   ]
  },
  {
   "cell_type": "code",
   "execution_count": 81,
   "metadata": {},
   "outputs": [],
   "source": [
    "for cate in category[1:-1]:\n",
    "    for i in range(1,101,10):\n",
    "        dictionary[cate].append(round(usnews[(usnews[cate] >= i) & (usnews[cate] <= i+9)] \\\n",
    "                             ['Freshmen_retention'].mean(),2))\n",
    "    dictionary[cate].append(round(usnews[(usnews[cate] > 100)]['Freshmen_retention'].mean(),2))"
   ]
  },
  {
   "cell_type": "code",
   "execution_count": 92,
   "metadata": {},
   "outputs": [
    {
     "data": {
      "image/png": "[encoded data removed]",
      "text/plain": [
       "<Figure size 2160x720 with 1 Axes>"
      ]
     },
     "metadata": {
      "needs_background": "light"
     },
     "output_type": "display_data"
    }
   ],
   "source": [
    "figure = plt.Figure(figsize = (30,200))\n",
    "df = pd.DataFrame({ 'National Liberal Arts Colleges' : ranking,\n",
    "                    'Best Undergraduate Teaching' : best_teaching, \n",
    "                    'Best Value Schools' : best_values,\n",
    "                    'Most Innovative Schools' :  most_innovative,\n",
    "                    'Top Performers on Social Mobility' : social_mobility}, \n",
    "                 index = labels)\n",
    "ax = df.plot.bar(rot = 0, figsize = (30,10), fontsize =20, title = 'Freshmen Retention Rate across rankings')\n",
    "ax.set_xlabel(\"Ranking\")\n",
    "ax.set_ylabel(\"Retention Rate\")\n",
    "for p in ax.patches:\n",
    "    ax.annotate(str(p.get_height()), (p.get_x() * 1.005, p.get_height() * 1.005))\n",
    "\n",
    "fig = ax.get_figure()\n",
    "fig.savefig(\"retention_rate.png\")"
   ]
  },
  {
   "cell_type": "code",
   "execution_count": 83,
   "metadata": {},
   "outputs": [
    {
     "data": {
      "text/plain": [
       "0.7316666666666666"
      ]
     },
     "execution_count": 83,
     "metadata": {},
     "output_type": "execute_result"
    }
   ],
   "source": [
    "usnews[(usnews[category[5]] >= 11) & (usnews[category[5]] <= 11+9)]['Freshmen_retention'].mean()"
   ]
  },
  {
   "cell_type": "code",
   "execution_count": null,
   "metadata": {},
   "outputs": [],
   "source": []
  },
  {
   "cell_type": "code",
   "execution_count": null,
   "metadata": {},
   "outputs": [],
   "source": []
  },
  {
   "cell_type": "code",
   "execution_count": null,
   "metadata": {},
   "outputs": [],
   "source": []
  }
 ],
 "metadata": {
  "kernelspec": {
   "display_name": "Python 3",
   "language": "python",
   "name": "python3"
  },
  "language_info": {
   "codemirror_mode": {
    "name": "ipython",
    "version": 3
   },
   "file_extension": ".py",
   "mimetype": "text/x-python",
   "name": "python",
   "nbconvert_exporter": "python",
   "pygments_lexer": "ipython3",
   "version": "3.7.7"
  }
 },
 "nbformat": 4,
 "nbformat_minor": 4
}
